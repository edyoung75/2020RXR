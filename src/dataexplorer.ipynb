{
 "cells": [
  {
   "cell_type": "markdown",
   "source": [
    "# Pull the data files\n",
    "Access to S3:\n",
    "\n",
    "    Bucket name: rxr-interview\n",
    "    Training data set: https://rxr-interview.s3.amazonaws.com/training_data.csv\n",
    "    Holdout data set: https://rxr-interview.s3.amazonaws.com/holdout_data.csv\n",
    "    Data dictionary: https://rxr-interview.s3.amazonaws.com/data_dictionary_RXR_data_science.csv\n",
    "# Imports"
   ],
   "metadata": {
    "collapsed": false,
    "pycharm": {
     "name": "#%% md\n"
    }
   }
  },
  {
   "cell_type": "code",
   "execution_count": 10,
   "metadata": {
    "collapsed": true
   },
   "outputs": [],
   "source": [
    "import boto3\n",
    "import io\n",
    "import pandas as pd"
   ]
  },
  {
   "cell_type": "markdown",
   "source": [
    "## Create a  boto3 Client to S3"
   ],
   "metadata": {
    "collapsed": false,
    "pycharm": {
     "name": "#%% md\n"
    }
   }
  },
  {
   "cell_type": "code",
   "execution_count": 11,
   "outputs": [],
   "source": [
    "bucketname = 'rxr-interview'\n",
    "filelist = [\n",
    "    'training_data.csv',\n",
    "    'holdout_data.csv',\n",
    "    'data_dictionary_RXR_data_science.csv'\n",
    "]"
   ],
   "metadata": {
    "collapsed": false,
    "pycharm": {
     "name": "#%%\n"
    }
   }
  },
  {
   "cell_type": "code",
   "execution_count": 12,
   "outputs": [
    {
     "data": {
      "text/plain": "   member_id  int_rate  installment  sub_grade  emp_length  annual_inc  \\\n0   70398696     15.41       244.07        150           4     30000.0   \n1   21319407      7.12       310.10         20          10     47621.0   \n2   14899037     11.99       498.15         70           8     85000.0   \n3   48892270     16.55       593.75        160          -1     50400.0   \n4   26208770     25.99      1043.97        330           7    144000.0   \n\n    issue_d    dti  delinq_2yrs  inq_last_6mths  ...  total_bal_ex_mort  \\\n0  Nov 2015  12.32            0               3  ...               7059   \n1  Jun 2014  16.71            0               1  ...              14585   \n2   2014-03   4.24            0               2  ...              12047   \n3   2015-04  31.09            0               0  ...              46582   \n4  Aug 2014  26.64            0               4  ...             110908   \n\n   total_bc_limit  total_il_high_credit_limit  mo_sin_earliest_cr_line  \\\n0            9500                           0                    135.0   \n1           11500                        5173                    380.0   \n2           15800                           0                    316.0   \n3           36600                       25000                    544.0   \n4           45400                       48437                    358.0   \n\n   percent_bc_sats  percent_bc_open_to_buy  percent_sats  \\\n0         0.714286                0.522210           1.0   \n1         0.250000                0.620348           1.0   \n2         0.666667                0.481392           1.0   \n3         0.444444                0.335328           1.0   \n4         0.555556                0.026762           1.0   \n\n   percent_rev_tl_bal_gt_0  percent_tot_cur_bal_of_hi_cred_lim  label  \n0                      1.0                            0.304267      0  \n1                      1.0                            0.337827      0  \n2                      1.0                            0.478056      0  \n3                      1.0                            0.756201      1  \n4                      1.0                            0.878576      1  \n\n[5 rows x 64 columns]",
      "text/html": "<div>\n<style scoped>\n    .dataframe tbody tr th:only-of-type {\n        vertical-align: middle;\n    }\n\n    .dataframe tbody tr th {\n        vertical-align: top;\n    }\n\n    .dataframe thead th {\n        text-align: right;\n    }\n</style>\n<table border=\"1\" class=\"dataframe\">\n  <thead>\n    <tr style=\"text-align: right;\">\n      <th></th>\n      <th>member_id</th>\n      <th>int_rate</th>\n      <th>installment</th>\n      <th>sub_grade</th>\n      <th>emp_length</th>\n      <th>annual_inc</th>\n      <th>issue_d</th>\n      <th>dti</th>\n      <th>delinq_2yrs</th>\n      <th>inq_last_6mths</th>\n      <th>...</th>\n      <th>total_bal_ex_mort</th>\n      <th>total_bc_limit</th>\n      <th>total_il_high_credit_limit</th>\n      <th>mo_sin_earliest_cr_line</th>\n      <th>percent_bc_sats</th>\n      <th>percent_bc_open_to_buy</th>\n      <th>percent_sats</th>\n      <th>percent_rev_tl_bal_gt_0</th>\n      <th>percent_tot_cur_bal_of_hi_cred_lim</th>\n      <th>label</th>\n    </tr>\n  </thead>\n  <tbody>\n    <tr>\n      <th>0</th>\n      <td>70398696</td>\n      <td>15.41</td>\n      <td>244.07</td>\n      <td>150</td>\n      <td>4</td>\n      <td>30000.0</td>\n      <td>Nov 2015</td>\n      <td>12.32</td>\n      <td>0</td>\n      <td>3</td>\n      <td>...</td>\n      <td>7059</td>\n      <td>9500</td>\n      <td>0</td>\n      <td>135.0</td>\n      <td>0.714286</td>\n      <td>0.522210</td>\n      <td>1.0</td>\n      <td>1.0</td>\n      <td>0.304267</td>\n      <td>0</td>\n    </tr>\n    <tr>\n      <th>1</th>\n      <td>21319407</td>\n      <td>7.12</td>\n      <td>310.10</td>\n      <td>20</td>\n      <td>10</td>\n      <td>47621.0</td>\n      <td>Jun 2014</td>\n      <td>16.71</td>\n      <td>0</td>\n      <td>1</td>\n      <td>...</td>\n      <td>14585</td>\n      <td>11500</td>\n      <td>5173</td>\n      <td>380.0</td>\n      <td>0.250000</td>\n      <td>0.620348</td>\n      <td>1.0</td>\n      <td>1.0</td>\n      <td>0.337827</td>\n      <td>0</td>\n    </tr>\n    <tr>\n      <th>2</th>\n      <td>14899037</td>\n      <td>11.99</td>\n      <td>498.15</td>\n      <td>70</td>\n      <td>8</td>\n      <td>85000.0</td>\n      <td>2014-03</td>\n      <td>4.24</td>\n      <td>0</td>\n      <td>2</td>\n      <td>...</td>\n      <td>12047</td>\n      <td>15800</td>\n      <td>0</td>\n      <td>316.0</td>\n      <td>0.666667</td>\n      <td>0.481392</td>\n      <td>1.0</td>\n      <td>1.0</td>\n      <td>0.478056</td>\n      <td>0</td>\n    </tr>\n    <tr>\n      <th>3</th>\n      <td>48892270</td>\n      <td>16.55</td>\n      <td>593.75</td>\n      <td>160</td>\n      <td>-1</td>\n      <td>50400.0</td>\n      <td>2015-04</td>\n      <td>31.09</td>\n      <td>0</td>\n      <td>0</td>\n      <td>...</td>\n      <td>46582</td>\n      <td>36600</td>\n      <td>25000</td>\n      <td>544.0</td>\n      <td>0.444444</td>\n      <td>0.335328</td>\n      <td>1.0</td>\n      <td>1.0</td>\n      <td>0.756201</td>\n      <td>1</td>\n    </tr>\n    <tr>\n      <th>4</th>\n      <td>26208770</td>\n      <td>25.99</td>\n      <td>1043.97</td>\n      <td>330</td>\n      <td>7</td>\n      <td>144000.0</td>\n      <td>Aug 2014</td>\n      <td>26.64</td>\n      <td>0</td>\n      <td>4</td>\n      <td>...</td>\n      <td>110908</td>\n      <td>45400</td>\n      <td>48437</td>\n      <td>358.0</td>\n      <td>0.555556</td>\n      <td>0.026762</td>\n      <td>1.0</td>\n      <td>1.0</td>\n      <td>0.878576</td>\n      <td>1</td>\n    </tr>\n  </tbody>\n</table>\n<p>5 rows × 64 columns</p>\n</div>"
     },
     "execution_count": 12,
     "metadata": {},
     "output_type": "execute_result"
    }
   ],
   "source": [
    "s3c = boto3.client('s3')\n",
    "training = True\n",
    "\n",
    "if training:\n",
    "    # Get the training data\n",
    "    fo = s3c.get_object(Bucket=bucketname, Key=filelist[0])\n",
    "    # create a new dataframe\n",
    "    df = pd.read_csv(io.BytesIO(fo['Body'].read()))\n",
    "else:\n",
    "    fo = s3c.get_object(Bucket=bucketname, Key=filelist[1])\n",
    "    # create a new dataframe\n",
    "    df = pd.read_csv(io.BytesIO(fo['Body'].read()))\n",
    "df.head()\n"
   ],
   "metadata": {
    "collapsed": false,
    "pycharm": {
     "name": "#%%\n"
    }
   }
  },
  {
   "cell_type": "code",
   "execution_count": 13,
   "outputs": [],
   "source": [
    "df.shape\n",
    "df.describe().transpose().to_csv(r'data_describe.csv')"
   ],
   "metadata": {
    "collapsed": false,
    "pycharm": {
     "name": "#%%\n"
    }
   }
  },
  {
   "cell_type": "code",
   "execution_count": 14,
   "outputs": [
    {
     "data": {
      "text/plain": "mths_since_recent_bc_dlq          616758\nmths_since_recent_revol_delinq    532487\nmths_since_recent_bc                7415\nmths_since_recent_inq              91775\ndtype: int64"
     },
     "execution_count": 14,
     "metadata": {},
     "output_type": "execute_result"
    }
   ],
   "source": [
    "df[['mths_since_recent_bc_dlq', 'mths_since_recent_revol_delinq', 'mths_since_recent_bc','mths_since_recent_inq',]].isnull().sum()"
   ],
   "metadata": {
    "collapsed": false,
    "pycharm": {
     "name": "#%%\n"
    }
   }
  },
  {
   "cell_type": "markdown",
   "source": [
    "# Data Clean-up"
   ],
   "metadata": {
    "collapsed": false,
    "pycharm": {
     "name": "#%% md\n"
    }
   }
  },
  {
   "cell_type": "code",
   "execution_count": 15,
   "outputs": [],
   "source": [
    "df['issue_d'] = pd.to_datetime(df['issue_d'], infer_datetime_format=True)"
   ],
   "metadata": {
    "collapsed": false,
    "pycharm": {
     "name": "#%%\n"
    }
   }
  },
  {
   "cell_type": "code",
   "execution_count": 16,
   "outputs": [],
   "source": [
    "df[['mths_since_recent_bc_dlq', 'mths_since_recent_revol_delinq', 'mths_since_recent_bc','mths_since_recent_inq',]] = df[['mths_since_recent_bc_dlq', 'mths_since_recent_revol_delinq', 'mths_since_recent_bc','mths_since_recent_inq',]].fillna(5_001)"
   ],
   "metadata": {
    "collapsed": false,
    "pycharm": {
     "name": "#%%\n"
    }
   }
  },
  {
   "cell_type": "code",
   "execution_count": 17,
   "outputs": [
    {
     "ename": "PermissionError",
     "evalue": "[Errno 13] Permission denied: 'df_sample_raw.csv'",
     "output_type": "error",
     "traceback": [
      "\u001B[1;31m---------------------------------------------------------------------------\u001B[0m",
      "\u001B[1;31mPermissionError\u001B[0m                           Traceback (most recent call last)",
      "\u001B[1;32m<ipython-input-17-37da1b01839a>\u001B[0m in \u001B[0;36m<module>\u001B[1;34m\u001B[0m\n\u001B[0;32m      1\u001B[0m \u001B[0mdfsmpl\u001B[0m \u001B[1;33m=\u001B[0m \u001B[0mdf\u001B[0m\u001B[1;33m.\u001B[0m\u001B[0msample\u001B[0m\u001B[1;33m(\u001B[0m\u001B[0mn\u001B[0m\u001B[1;33m=\u001B[0m\u001B[1;36m500\u001B[0m\u001B[1;33m,\u001B[0m \u001B[0mrandom_state\u001B[0m\u001B[1;33m=\u001B[0m\u001B[1;36m1\u001B[0m\u001B[1;33m)\u001B[0m\u001B[1;33m\u001B[0m\u001B[1;33m\u001B[0m\u001B[0m\n\u001B[1;32m----> 2\u001B[1;33m \u001B[0mdfsmpl\u001B[0m\u001B[1;33m.\u001B[0m\u001B[0mto_csv\u001B[0m\u001B[1;33m(\u001B[0m\u001B[1;34mr'df_sample_raw.csv'\u001B[0m\u001B[1;33m)\u001B[0m\u001B[1;33m\u001B[0m\u001B[1;33m\u001B[0m\u001B[0m\n\u001B[0m",
      "\u001B[1;32md:\\google drive\\python\\pycharmprojects\\2020rxr\\venv\\lib\\site-packages\\pandas\\core\\generic.py\u001B[0m in \u001B[0;36mto_csv\u001B[1;34m(self, path_or_buf, sep, na_rep, float_format, columns, header, index, index_label, mode, encoding, compression, quoting, quotechar, line_terminator, chunksize, date_format, doublequote, escapechar, decimal, errors)\u001B[0m\n\u001B[0;32m   3165\u001B[0m             \u001B[0mdecimal\u001B[0m\u001B[1;33m=\u001B[0m\u001B[0mdecimal\u001B[0m\u001B[1;33m,\u001B[0m\u001B[1;33m\u001B[0m\u001B[1;33m\u001B[0m\u001B[0m\n\u001B[0;32m   3166\u001B[0m         )\n\u001B[1;32m-> 3167\u001B[1;33m         \u001B[0mformatter\u001B[0m\u001B[1;33m.\u001B[0m\u001B[0msave\u001B[0m\u001B[1;33m(\u001B[0m\u001B[1;33m)\u001B[0m\u001B[1;33m\u001B[0m\u001B[1;33m\u001B[0m\u001B[0m\n\u001B[0m\u001B[0;32m   3168\u001B[0m \u001B[1;33m\u001B[0m\u001B[0m\n\u001B[0;32m   3169\u001B[0m         \u001B[1;32mif\u001B[0m \u001B[0mpath_or_buf\u001B[0m \u001B[1;32mis\u001B[0m \u001B[1;32mNone\u001B[0m\u001B[1;33m:\u001B[0m\u001B[1;33m\u001B[0m\u001B[1;33m\u001B[0m\u001B[0m\n",
      "\u001B[1;32md:\\google drive\\python\\pycharmprojects\\2020rxr\\venv\\lib\\site-packages\\pandas\\io\\formats\\csvs.py\u001B[0m in \u001B[0;36msave\u001B[1;34m(self)\u001B[0m\n\u001B[0;32m    183\u001B[0m             \u001B[0mclose\u001B[0m \u001B[1;33m=\u001B[0m \u001B[1;32mFalse\u001B[0m\u001B[1;33m\u001B[0m\u001B[1;33m\u001B[0m\u001B[0m\n\u001B[0;32m    184\u001B[0m         \u001B[1;32melse\u001B[0m\u001B[1;33m:\u001B[0m\u001B[1;33m\u001B[0m\u001B[1;33m\u001B[0m\u001B[0m\n\u001B[1;32m--> 185\u001B[1;33m             f, handles = get_handle(\n\u001B[0m\u001B[0;32m    186\u001B[0m                 \u001B[0mself\u001B[0m\u001B[1;33m.\u001B[0m\u001B[0mpath_or_buf\u001B[0m\u001B[1;33m,\u001B[0m\u001B[1;33m\u001B[0m\u001B[1;33m\u001B[0m\u001B[0m\n\u001B[0;32m    187\u001B[0m                 \u001B[0mself\u001B[0m\u001B[1;33m.\u001B[0m\u001B[0mmode\u001B[0m\u001B[1;33m,\u001B[0m\u001B[1;33m\u001B[0m\u001B[1;33m\u001B[0m\u001B[0m\n",
      "\u001B[1;32md:\\google drive\\python\\pycharmprojects\\2020rxr\\venv\\lib\\site-packages\\pandas\\io\\common.py\u001B[0m in \u001B[0;36mget_handle\u001B[1;34m(path_or_buf, mode, encoding, compression, memory_map, is_text, errors)\u001B[0m\n\u001B[0;32m    491\u001B[0m         \u001B[1;32mif\u001B[0m \u001B[0mencoding\u001B[0m\u001B[1;33m:\u001B[0m\u001B[1;33m\u001B[0m\u001B[1;33m\u001B[0m\u001B[0m\n\u001B[0;32m    492\u001B[0m             \u001B[1;31m# Encoding\u001B[0m\u001B[1;33m\u001B[0m\u001B[1;33m\u001B[0m\u001B[1;33m\u001B[0m\u001B[0m\n\u001B[1;32m--> 493\u001B[1;33m             \u001B[0mf\u001B[0m \u001B[1;33m=\u001B[0m \u001B[0mopen\u001B[0m\u001B[1;33m(\u001B[0m\u001B[0mpath_or_buf\u001B[0m\u001B[1;33m,\u001B[0m \u001B[0mmode\u001B[0m\u001B[1;33m,\u001B[0m \u001B[0mencoding\u001B[0m\u001B[1;33m=\u001B[0m\u001B[0mencoding\u001B[0m\u001B[1;33m,\u001B[0m \u001B[0merrors\u001B[0m\u001B[1;33m=\u001B[0m\u001B[0merrors\u001B[0m\u001B[1;33m,\u001B[0m \u001B[0mnewline\u001B[0m\u001B[1;33m=\u001B[0m\u001B[1;34m\"\"\u001B[0m\u001B[1;33m)\u001B[0m\u001B[1;33m\u001B[0m\u001B[1;33m\u001B[0m\u001B[0m\n\u001B[0m\u001B[0;32m    494\u001B[0m         \u001B[1;32melif\u001B[0m \u001B[0mis_text\u001B[0m\u001B[1;33m:\u001B[0m\u001B[1;33m\u001B[0m\u001B[1;33m\u001B[0m\u001B[0m\n\u001B[0;32m    495\u001B[0m             \u001B[1;31m# No explicit encoding\u001B[0m\u001B[1;33m\u001B[0m\u001B[1;33m\u001B[0m\u001B[1;33m\u001B[0m\u001B[0m\n",
      "\u001B[1;31mPermissionError\u001B[0m: [Errno 13] Permission denied: 'df_sample_raw.csv'"
     ]
    }
   ],
   "source": [
    "dfsmpl = df.sample(n=500, random_state=1)\n",
    "dfsmpl.to_csv(r'df_sample_raw.csv')"
   ],
   "metadata": {
    "collapsed": false,
    "pycharm": {
     "name": "#%%\n"
    }
   }
  },
  {
   "cell_type": "code",
   "execution_count": null,
   "outputs": [],
   "source": [
    "df.head()"
   ],
   "metadata": {
    "collapsed": false,
    "pycharm": {
     "name": "#%%\n"
    }
   }
  },
  {
   "cell_type": "markdown",
   "source": [
    "## Let's see what the correlation looks like?"
   ],
   "metadata": {
    "collapsed": false,
    "pycharm": {
     "name": "#%% md\n"
    }
   }
  },
  {
   "cell_type": "code",
   "execution_count": null,
   "outputs": [],
   "source": [
    "import seaborn as sns\n",
    "import matplotlib.pyplot as plt\n",
    "\n",
    "plt.figure(figsize=(16, 16))\n",
    "sns.heatmap(df.iloc[:,1:64].corr(), annot=True )"
   ],
   "metadata": {
    "collapsed": false,
    "pycharm": {
     "name": "#%%\n"
    }
   }
  },
  {
   "cell_type": "markdown",
   "source": [
    "### Check the data types"
   ],
   "metadata": {
    "collapsed": false,
    "pycharm": {
     "name": "#%% md\n"
    }
   }
  },
  {
   "cell_type": "code",
   "execution_count": null,
   "outputs": [],
   "source": [
    "df.info()"
   ],
   "metadata": {
    "collapsed": false,
    "pycharm": {
     "name": "#%%\n"
    }
   }
  },
  {
   "cell_type": "code",
   "execution_count": null,
   "outputs": [],
   "source": [
    "pd.options.display.float_format = '{:,.3f}'.format\n",
    "df.corr()"
   ],
   "metadata": {
    "collapsed": false,
    "pycharm": {
     "name": "#%%\n"
    }
   }
  },
  {
   "cell_type": "code",
   "execution_count": null,
   "outputs": [],
   "source": [
    "pd.options.display.float_format = '{:,.3f}'.format\n",
    "df.cov()\n"
   ],
   "metadata": {
    "collapsed": false,
    "pycharm": {
     "name": "#%%\n"
    }
   }
  },
  {
   "cell_type": "code",
   "execution_count": null,
   "outputs": [],
   "source": [
    "df_less = df.iloc[:, 1:64]\n",
    "df_less.corr()"
   ],
   "metadata": {
    "collapsed": false,
    "pycharm": {
     "name": "#%%\n"
    }
   }
  },
  {
   "cell_type": "code",
   "execution_count": null,
   "outputs": [],
   "source": [
    "df_less.cov()"
   ],
   "metadata": {
    "collapsed": false,
    "pycharm": {
     "name": "#%%\n"
    }
   }
  },
  {
   "cell_type": "code",
   "execution_count": null,
   "outputs": [],
   "source": [
    "df_less.corr().to_csv(r'df_less.csv')"
   ],
   "metadata": {
    "collapsed": false,
    "pycharm": {
     "name": "#%%\n"
    }
   }
  },
  {
   "cell_type": "code",
   "execution_count": null,
   "outputs": [],
   "source": [
    "plt.figure(figsize=(64, 64), dpi=100, facecolor='w')\n",
    "sns.heatmap(df_less.corr(), annot=True)\n",
    "#plt.savefig('heatmap_df_less.png')\n"
   ],
   "metadata": {
    "collapsed": false,
    "pycharm": {
     "name": "#%%\n"
    }
   }
  },
  {
   "cell_type": "code",
   "execution_count": null,
   "outputs": [],
   "source": [
    "# Positively correlated\n",
    "list = [\n",
    "    # Positive\n",
    "    #'acc_now_delinq',\n",
    "    #'acc_open_past_24mths',\n",
    "    #'avg_cur_bal', #\n",
    "    'bc_open_to_buy', ##\n",
    "    'bc_util', ## inverse as well\n",
    "    #'delinq_2yrs',\n",
    "    'int_rate', ##\n",
    "    #'mo_sin_earliest_cr_line',\n",
    "    #'mo_sin_old_rev_tl_op',\n",
    "    #'mo_sin_rcnt_rev_tl_op',\n",
    "    #'mo_sin_rcnt_tl',\n",
    "    #'mths_since_recent_bc',\n",
    "    #'mths_since_recent_bc_dlq', # missing 616758 records out of 831170 (74.2%)\n",
    "    #'mths_since_recent_revol_delinq', # missing 532487 records (64.1%)\n",
    "    'num_actv_bc_tl', ##\n",
    "    'num_actv_rev_tl', ##\n",
    "    'num_bc_sats', ##\n",
    "    'num_bc_tl', ##\n",
    "    #'num_il_tl',\n",
    "    'num_op_rev_tl', ##\n",
    "    'num_rev_accts', ##\n",
    "    #'num_tl_30dpd', #\n",
    "    #'num_tl_90g_dpd_24m',\n",
    "    #'num_tl_op_past_12m', #\n",
    "    'open_acc', ##\n",
    "    'percent_bc_gt_75', ## Inverse as well\n",
    "    #'pub_rec',\n",
    "    'revol_bal', ##\n",
    "    'sub_grade', ##\n",
    "    #'tax_liens',\n",
    "    #'tot_hi_cred_lim',\n",
    "    #'total_acc', #\n",
    "    'total_bal_ex_mort', ##\n",
    "    'total_bc_limit', ##\n",
    "    'total_rev_hi_lim', ##\n",
    "    'total_il_high_credit_limit', ##\n",
    "    # # Inverse\n",
    "    #'bc_util', ##\n",
    "    # #'mths_since_last_major_derog',\n",
    "    # #'mths_since_last_record', #\n",
    "    # #'num_accts_ever_120_pd',\n",
    "    # #'percent_bc_gt_75', #\n",
    "    'percent_bc_open_to_buy',##\n",
    "    # #'pub_rec', #\n",
    "    # #'pub_rec_bankruptcies', #\n",
    "    'label',\n",
    "]\n",
    "sorted(list)\n"
   ],
   "metadata": {
    "collapsed": false,
    "pycharm": {
     "name": "#%%\n"
    }
   }
  },
  {
   "cell_type": "code",
   "execution_count": null,
   "outputs": [],
   "source": [
    "df_less_model = df.loc[:, list]\n",
    "plt.figure(figsize=(36, 36), dpi=100, facecolor='w')\n",
    "sns.heatmap(df_less_model.corr(), annot=True)\n",
    "#plt.savefig('heatmap_df_less_model_positive.png')"
   ],
   "metadata": {
    "collapsed": false,
    "pycharm": {
     "name": "#%%\n"
    }
   }
  },
  {
   "cell_type": "code",
   "execution_count": null,
   "outputs": [],
   "source": [
    "# df_NaN = df_less_model.isnull()\n",
    "# df_row_has_NaN = df_NaN.any(axis=1)\n",
    "# df_rows_with_NaN = df[df_row_has_NaN]\n",
    "#\n",
    "# df_rows_with_NaN[['mths_since_recent_bc_dlq', 'mths_since_recent_revol_delinq', 'mths_since_recent_bc','mths_since_recent_inq',]]"
   ],
   "metadata": {
    "collapsed": false,
    "pycharm": {
     "name": "#%%\n"
    }
   }
  },
  {
   "cell_type": "code",
   "execution_count": null,
   "outputs": [],
   "source": [
    "df.hist()"
   ],
   "metadata": {
    "collapsed": false,
    "pycharm": {
     "name": "#%%\n"
    }
   }
  },
  {
   "cell_type": "code",
   "execution_count": null,
   "outputs": [],
   "source": [
    "outliers = df[(df['total_rev_hi_lim'] >= 2_000_000)].index\n",
    "outliers\n",
    "df.loc[outliers,['total_rev_hi_lim']]"
   ],
   "metadata": {
    "collapsed": false,
    "pycharm": {
     "name": "#%%\n"
    }
   }
  },
  {
   "cell_type": "markdown",
   "source": [
    "## Looking at the hold data"
   ],
   "metadata": {
    "collapsed": false,
    "pycharm": {
     "name": "#%% md\n"
    }
   }
  },
  {
   "cell_type": "code",
   "execution_count": null,
   "outputs": [],
   "source": [
    "# hfo = s3c.get_object(Bucket=bucketname, Key=filelist[1])\n",
    "# # create a new dataframe\n",
    "# hdf = pd.read_csv(io.BytesIO(hfo['Body'].read()))\n",
    "# hdf.info()"
   ],
   "metadata": {
    "collapsed": false,
    "pycharm": {
     "name": "#%%\n"
    }
   }
  },
  {
   "cell_type": "markdown",
   "source": [
    "# SciKit-Learn Machine Learning"
   ],
   "metadata": {
    "collapsed": false,
    "pycharm": {
     "name": "#%% md\n"
    }
   }
  },
  {
   "cell_type": "code",
   "execution_count": 23,
   "outputs": [],
   "source": [
    "from sklearn.model_selection import train_test_split\n",
    "from sklearn.model_selection import cross_val_score\n",
    "from sklearn.model_selection import StratifiedKFold\n",
    "from sklearn.linear_model import LogisticRegression\n",
    "from sklearn.tree import DecisionTreeClassifier\n",
    "from sklearn.neighbors import KNeighborsClassifier\n",
    "from sklearn.discriminant_analysis import LinearDiscriminantAnalysis\n",
    "from sklearn.naive_bayes import GaussianNB\n",
    "from sklearn.svm import SVC\n",
    "from sklearn.ensemble import RandomForestClassifier\n",
    "\n",
    "# Sklearn processing\n",
    "from sklearn.preprocessing import MinMaxScaler\n",
    "from sklearn.model_selection import train_test_split\n",
    "\n",
    "# Sklearn regression model evaluation function\n",
    "from sklearn.metrics import mean_absolute_error"
   ],
   "metadata": {
    "collapsed": false,
    "pycharm": {
     "name": "#%%\n"
    }
   }
  },
  {
   "cell_type": "markdown",
   "source": [
    "## Split the Data up into Input and Target Features"
   ],
   "metadata": {
    "collapsed": false,
    "pycharm": {
     "name": "#%% md\n"
    }
   }
  },
  {
   "cell_type": "code",
   "execution_count": 21,
   "outputs": [],
   "source": [
    "# Target\n",
    "y = df_less_model['label']\n",
    "# Input\n",
    "X = df_less_model[[\n",
    "    'bc_open_to_buy',\n",
    "    'bc_util',\n",
    "    'int_rate',\n",
    "    'num_actv_bc_tl',\n",
    "    'num_actv_rev_tl',\n",
    "    'num_bc_sats',\n",
    "    'num_bc_tl',\n",
    "    'num_op_rev_tl',\n",
    "    'num_rev_accts',\n",
    "    'open_acc',\n",
    "    'percent_bc_gt_75',\n",
    "    'revol_bal',\n",
    "    'sub_grade',\n",
    "    'total_bal_ex_mort',\n",
    "    'total_bc_limit',\n",
    "    'total_il_high_credit_limit',\n",
    "    'total_rev_hi_lim',\n",
    "    'percent_bc_open_to_buy',\n",
    "]]"
   ],
   "metadata": {
    "collapsed": false,
    "pycharm": {
     "name": "#%%\n"
    }
   }
  },
  {
   "cell_type": "markdown",
   "source": [
    "## Rescale the data"
   ],
   "metadata": {
    "collapsed": false,
    "pycharm": {
     "name": "#%% md\n"
    }
   }
  },
  {
   "cell_type": "code",
   "execution_count": 24,
   "outputs": [
    {
     "name": "stdout",
     "output_type": "stream",
     "text": [
      "LR: 0.880885 (0.000330)\n",
      "LDA: 0.878804 (0.000276)\n",
      "KNN: 0.872038 (0.000548)\n",
      "CART: 0.923397 (0.001044)\n",
      "NB: 0.785555 (0.003095)\n",
      "SVM: 0.881936 (0.000007)\n",
      "CLF: 0.955420 (0.000446)\n"
     ]
    },
    {
     "ename": "NameError",
     "evalue": "name 'pyplot' is not defined",
     "output_type": "error",
     "traceback": [
      "\u001B[1;31m---------------------------------------------------------------------------\u001B[0m",
      "\u001B[1;31mNameError\u001B[0m                                 Traceback (most recent call last)",
      "\u001B[1;32m<ipython-input-24-ab83511d6979>\u001B[0m in \u001B[0;36m<module>\u001B[1;34m\u001B[0m\n\u001B[0;32m     29\u001B[0m         \u001B[0mprint\u001B[0m\u001B[1;33m(\u001B[0m\u001B[1;34m'%s: %f (%f)'\u001B[0m \u001B[1;33m%\u001B[0m \u001B[1;33m(\u001B[0m\u001B[0mname\u001B[0m\u001B[1;33m,\u001B[0m \u001B[0mcv_results\u001B[0m\u001B[1;33m.\u001B[0m\u001B[0mmean\u001B[0m\u001B[1;33m(\u001B[0m\u001B[1;33m)\u001B[0m\u001B[1;33m,\u001B[0m \u001B[0mcv_results\u001B[0m\u001B[1;33m.\u001B[0m\u001B[0mstd\u001B[0m\u001B[1;33m(\u001B[0m\u001B[1;33m)\u001B[0m\u001B[1;33m)\u001B[0m\u001B[1;33m)\u001B[0m\u001B[1;33m\u001B[0m\u001B[1;33m\u001B[0m\u001B[0m\n\u001B[0;32m     30\u001B[0m \u001B[1;31m# Compare Algorithms\u001B[0m\u001B[1;33m\u001B[0m\u001B[1;33m\u001B[0m\u001B[1;33m\u001B[0m\u001B[0m\n\u001B[1;32m---> 31\u001B[1;33m \u001B[0mpyplot\u001B[0m\u001B[1;33m.\u001B[0m\u001B[0mboxplot\u001B[0m\u001B[1;33m(\u001B[0m\u001B[0mresults\u001B[0m\u001B[1;33m,\u001B[0m \u001B[0mlabels\u001B[0m\u001B[1;33m=\u001B[0m\u001B[0mnames\u001B[0m\u001B[1;33m)\u001B[0m\u001B[1;33m\u001B[0m\u001B[1;33m\u001B[0m\u001B[0m\n\u001B[0m\u001B[0;32m     32\u001B[0m \u001B[0mpyplot\u001B[0m\u001B[1;33m.\u001B[0m\u001B[0mtitle\u001B[0m\u001B[1;33m(\u001B[0m\u001B[1;34m'Algorithm Comparison'\u001B[0m\u001B[1;33m)\u001B[0m\u001B[1;33m\u001B[0m\u001B[1;33m\u001B[0m\u001B[0m\n\u001B[0;32m     33\u001B[0m \u001B[0mpyplot\u001B[0m\u001B[1;33m.\u001B[0m\u001B[0mshow\u001B[0m\u001B[1;33m(\u001B[0m\u001B[1;33m)\u001B[0m\u001B[1;33m\u001B[0m\u001B[1;33m\u001B[0m\u001B[0m\n",
      "\u001B[1;31mNameError\u001B[0m: name 'pyplot' is not defined"
     ]
    }
   ],
   "source": [
    "scaler = MinMaxScaler(feature_range=(0,1))\n",
    "rescaleX = scaler.fit_transform(X)\n",
    "\n",
    "# Convert X back to a Pandas DataFrame, for convenience\n",
    "X = pd.DataFrame(rescaleX, index=X.index, columns=X.columns)\n",
    "\n",
    "# Split into test and training sets\n",
    "test_size = 0.33\n",
    "seed = 1\n",
    "X_train, X_test, Y_train, Y_test = train_test_split(X, y, test_size=test_size, random_state=seed)\n",
    "\n",
    "# Spot Check Algorithms\n",
    "models = []\n",
    "models.append(('LR', LogisticRegression(solver='liblinear', multi_class='ovr')))\n",
    "models.append(('LDA', LinearDiscriminantAnalysis()))\n",
    "models.append(('KNN', KNeighborsClassifier()))\n",
    "models.append(('CART', DecisionTreeClassifier()))\n",
    "models.append(('NB', GaussianNB()))\n",
    "models.append(('SVM', SVC(gamma='auto')))\n",
    "models.append(('CLF', RandomForestClassifier(n_estimators=100)))\n",
    "# evaluate each model in turn\n",
    "results = []\n",
    "names = []\n",
    "for name, model in models:\n",
    "\tkfold = StratifiedKFold(n_splits=10, random_state=1, shuffle=True)\n",
    "\tcv_results = cross_val_score(model, X_train, Y_train, cv=kfold, scoring='accuracy')\n",
    "\tresults.append(cv_results)\n",
    "\tnames.append(name)\n",
    "\tprint('%s: %f (%f)' % (name, cv_results.mean(), cv_results.std()))"
   ],
   "metadata": {
    "collapsed": false,
    "pycharm": {
     "name": "#%%\n"
    }
   }
  },
  {
   "cell_type": "code",
   "execution_count": 27,
   "outputs": [
    {
     "data": {
      "text/plain": "<Figure size 432x288 with 1 Axes>",
      "image/png": "[encoded data removed]"
     },
     "metadata": {
      "needs_background": "light"
     },
     "output_type": "display_data"
    },
    {
     "data": {
      "text/plain": "<Figure size 1600x1600 with 1 Axes>",
      "image/png": "[encoded data removed]"
     },
     "metadata": {},
     "output_type": "display_data"
    }
   ],
   "source": [
    "# Compare Algorithms\n",
    "plt.boxplot(results, labels=names)\n",
    "plt.figure(figsize=(16, 16), dpi=100, facecolor='w')\n",
    "plt.title('Algorithm Comparison')\n",
    "plt.show()"
   ],
   "metadata": {
    "collapsed": false,
    "pycharm": {
     "name": "#%%\n"
    }
   }
  },
  {
   "cell_type": "markdown",
   "source": [
    "## OUTPUT:\n",
    "<code>\n",
    "LR: 0.880885 (0.000330)<br>\n",
    "LDA: 0.878804 (0.000276)<br>\n",
    "KNN: 0.872038 (0.000548)<br>\n",
    "CART: 0.923397 (0.001044) <-- great outcome <br>\n",
    "NB: 0.785555 (0.003095)<br>\n",
    "SVM: 0.881936 (0.000007) <--- took several hours to complete <br>\n",
    "CLF: 0.955420 (0.000446) <-- best outcome\n",
    "</code>"
   ],
   "metadata": {
    "collapsed": false,
    "pycharm": {
     "name": "#%% md\n"
    }
   }
  }
 ],
 "metadata": {
  "kernelspec": {
   "display_name": "Python 3",
   "language": "python",
   "name": "python3"
  },
  "language_info": {
   "codemirror_mode": {
    "name": "ipython",
    "version": 2
   },
   "file_extension": ".py",
   "mimetype": "text/x-python",
   "name": "python",
   "nbconvert_exporter": "python",
   "pygments_lexer": "ipython2",
   "version": "2.7.6"
  }
 },
 "nbformat": 4,
 "nbformat_minor": 0
}